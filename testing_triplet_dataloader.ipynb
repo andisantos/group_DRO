{
 "cells": [
  {
   "cell_type": "code",
   "execution_count": 1,
   "id": "bfd5d30a",
   "metadata": {},
   "outputs": [],
   "source": [
    "from data.dataset_places_2classes import PlacesDataset\n",
    "from torch.utils.data import DataLoader"
   ]
  },
  {
   "cell_type": "code",
   "execution_count": 2,
   "id": "975a9cf8",
   "metadata": {},
   "outputs": [
    {
     "name": "stdout",
     "output_type": "stream",
     "text": [
      "(102140, 3)\n"
     ]
    }
   ],
   "source": [
    "places_ds = PlacesDataset(\"dataset0.9_DRO_group0-1.npy\", mode='train', perc_train=0.8)"
   ]
  },
  {
   "cell_type": "code",
   "execution_count": 3,
   "id": "62dd28ec",
   "metadata": {},
   "outputs": [],
   "source": [
    "dataloader = DataLoader(places_ds,\n",
    "                        batch_size=32,\n",
    "                        shuffle=True,\n",
    "                        num_workers=8)"
   ]
  },
  {
   "cell_type": "code",
   "execution_count": 5,
   "id": "123901db",
   "metadata": {},
   "outputs": [
    {
     "name": "stdout",
     "output_type": "stream",
     "text": [
      "images ('/hadatasets/datasets/places/data_256/p/playroom/00008595.jpg', '/hadatasets/datasets/places/data_256/n/nursery/00003438.jpg', '/hadatasets/datasets/places/data_256/b/bedroom/00009991.jpg', '/hadatasets/datasets/places/data_256/b/bedroom/00031336.jpg', '/hadatasets/datasets/places/data_256/n/nursery/00007558.jpg', '/hadatasets/datasets/places/data_256/b/bedchamber/00001912.jpg', '/hadatasets/datasets/places/data_256/b/bedroom/00017849.jpg', '/hadatasets/datasets/places/data_256/p/playroom/00013668.jpg', '/hadatasets/datasets/places/data_256/b/bedchamber/00003367.jpg', '/hadatasets/datasets/places/data_256/h/hotel_room/00021679.jpg', '/hadatasets/datasets/places/data_256/h/hotel_room/00031218.jpg', '/hadatasets/datasets/places/data_256/b/bedroom/00039100.jpg', '/hadatasets/datasets/places/data_256/h/hotel_room/00025727.jpg', '/hadatasets/datasets/places/data_256/p/playroom/00016252.jpg', '/hadatasets/datasets/places/data_256/n/nursery/00010162.jpg', '/hadatasets/datasets/places/data_256/b/bedroom/00031858.jpg', '/hadatasets/datasets/places/data_256/h/hotel_room/00019824.jpg', '/hadatasets/datasets/places/data_256/d/dorm_room/00013458.jpg', '/hadatasets/datasets/places/data_256/p/playroom/00003379.jpg', '/hadatasets/datasets/places/data_256/b/bedroom/00022523.jpg', '/hadatasets/datasets/places/data_256/b/bedroom/00001162.jpg', '/hadatasets/datasets/places/data_256/b/bedroom/00009588.jpg', '/hadatasets/datasets/places/data_256/p/playroom/00004487.jpg', '/hadatasets/datasets/places/data_256/d/dorm_room/00006387.jpg', '/hadatasets/datasets/places/data_256/h/hotel_room/00004587.jpg', '/hadatasets/datasets/places/data_256/b/bedroom/00002380.jpg', '/hadatasets/datasets/places/data_256/d/dorm_room/00005886.jpg', '/hadatasets/datasets/places/data_256/d/dorm_room/00000219.jpg', '/hadatasets/datasets/places/data_256/p/playroom/00002600.jpg', '/hadatasets/datasets/places/data_256/n/nursery/00006537.jpg', '/hadatasets/datasets/places/data_256/n/nursery/00006781.jpg', '/hadatasets/datasets/places/data_256/p/playroom/00007991.jpg')\n",
      "\n",
      "groups tensor([0, 0, 1, 0, 0, 0, 1, 0, 1, 0, 1, 0, 0, 1, 1, 1, 1, 1, 0, 1, 0, 0, 1, 0,\n",
      "        0, 0, 1, 1, 0, 1, 0, 1])\n",
      "\n",
      "labels tensor([1, 1, 0, 0, 1, 0, 0, 1, 0, 0, 0, 0, 0, 1, 1, 0, 0, 0, 1, 0, 0, 0, 1, 0,\n",
      "        0, 0, 0, 0, 1, 1, 1, 1])\n"
     ]
    }
   ],
   "source": [
    "for batch in dataloader:\n",
    "    imgs = batch[0]\n",
    "    labels = batch[1]\n",
    "    groups = batch[2]\n",
    "    img_paths = batch[3]\n",
    "    print(\"images\", img_paths)\n",
    "    print()\n",
    "    print(\"groups\", groups)\n",
    "    print()\n",
    "    print(\"labels\", labels)\n",
    "    break\n",
    "    \n",
    "    "
   ]
  }
 ],
 "metadata": {
  "kernelspec": {
   "display_name": "Python 3 (ipykernel)",
   "language": "python",
   "name": "python3"
  },
  "language_info": {
   "codemirror_mode": {
    "name": "ipython",
    "version": 3
   },
   "file_extension": ".py",
   "mimetype": "text/x-python",
   "name": "python",
   "nbconvert_exporter": "python",
   "pygments_lexer": "ipython3",
   "version": "3.10.10"
  }
 },
 "nbformat": 4,
 "nbformat_minor": 5
}

{
 "cells": [
  {
   "cell_type": "code",
   "execution_count": 1,
   "id": "1390ddfe",
   "metadata": {},
   "outputs": [],
   "source": [
    "from data.dataset_places_2classes import PlacesDataset\n",
    "from torch.utils.data import DataLoader\n",
    "from utils import set_seed, Logger, CSVBatchLogger, log_args\n",
    "import torch\n",
    "import torch.nn as nn\n",
    "import torchvision\n",
    "import os\n",
    "from train import train\n"
   ]
  },
  {
   "cell_type": "code",
   "execution_count": 2,
   "id": "b61caba8",
   "metadata": {},
   "outputs": [
    {
     "name": "stdout",
     "output_type": "stream",
     "text": [
      "(102140, 3)\n",
      "(25536, 3)\n"
     ]
    }
   ],
   "source": [
    "places_ds = {}\n",
    "places_ds['train'] = PlacesDataset(\"dataset0.9_DRO_group0-1.npy\", mode='train', perc_train=0.8)\n",
    "places_ds['val'] = PlacesDataset(\"dataset0.9_DRO_group0-1.npy\", mode='val', perc_train=0.8)"
   ]
  },
  {
   "cell_type": "code",
   "execution_count": 3,
   "id": "25ef5e23",
   "metadata": {},
   "outputs": [],
   "source": [
    "dataloaders = {k: DataLoader(places_ds[k],\n",
    "                            batch_size=32,\n",
    "                            shuffle=True,\n",
    "                            num_workers=8) for k in places_ds.keys()}"
   ]
  },
  {
   "cell_type": "code",
   "execution_count": 4,
   "id": "3507457e-7590-4362-a69e-89e6f4b4cf16",
   "metadata": {},
   "outputs": [],
   "source": [
    "data = {}\n",
    "data['train_loader'] = dataloaders['train']\n",
    "data['val_loader'] = dataloaders['val']\n",
    "data['test_loader'] = None\n",
    "data['train_data'] = places_ds['train']\n",
    "data['val_data'] = places_ds['val']\n",
    "data['test_data'] = None"
   ]
  },
  {
   "cell_type": "code",
   "execution_count": 5,
   "id": "8dfc6497",
   "metadata": {},
   "outputs": [
    {
     "name": "stderr",
     "output_type": "stream",
     "text": [
      "Downloading: \"https://download.pytorch.org/models/resnet50-11ad3fa6.pth\" to /root/.cache/torch/hub/checkpoints/resnet50-11ad3fa6.pth\n",
      "100%|████████████████████████████████████████████████████████████████████████████████████████████████████████████████| 97.8M/97.8M [00:00<00:00, 111MB/s]\n"
     ]
    }
   ],
   "source": [
    "n_classes = 2\n",
    "set_seed(42)\n",
    "model = torchvision.models.resnet50(weights=\"ResNet50_Weights.DEFAULT\")\n",
    "d = model.fc.in_features\n",
    "model.fc = nn.Linear(d, n_classes)\n",
    "criterion = torch.nn.CrossEntropyLoss(reduction='none')\n",
    "epoch_offset=0\n",
    "train_csv_logger = CSVBatchLogger(os.path.join('./logs', 'train.csv'), 2, mode='w')\n",
    "val_csv_logger =  CSVBatchLogger(os.path.join('./logs', 'val.csv'), 2, mode='w')\n",
    "test_csv_logger =  CSVBatchLogger(os.path.join('./logs', 'test.csv'), 2, mode='w')\n",
    "logger = Logger(os.path.join('./logs', 'log.txt'), 'w')\n"
   ]
  },
  {
   "cell_type": "code",
   "execution_count": 6,
   "id": "c4a0bbfe",
   "metadata": {},
   "outputs": [
    {
     "ename": "NameError",
     "evalue": "name 'args' is not defined",
     "output_type": "error",
     "traceback": [
      "\u001b[0;31m---------------------------------------------------------------------------\u001b[0m",
      "\u001b[0;31mNameError\u001b[0m                                 Traceback (most recent call last)",
      "Cell \u001b[0;32mIn[6], line 1\u001b[0m\n\u001b[0;32m----> 1\u001b[0m train(model, criterion, data, logger, train_csv_logger, val_csv_logger, test_csv_logger, \u001b[43margs\u001b[49m, epoch_offset\u001b[38;5;241m=\u001b[39mepoch_offset)\n",
      "\u001b[0;31mNameError\u001b[0m: name 'args' is not defined"
     ]
    }
   ],
   "source": [
    "train(model, criterion, data, logger, train_csv_logger, val_csv_logger, test_csv_logger, args, epoch_offset=epoch_offset)\n"
   ]
  }
 ],
 "metadata": {
  "kernelspec": {
   "display_name": "Python 3 (ipykernel)",
   "language": "python",
   "name": "python3"
  },
  "language_info": {
   "codemirror_mode": {
    "name": "ipython",
    "version": 3
   },
   "file_extension": ".py",
   "mimetype": "text/x-python",
   "name": "python",
   "nbconvert_exporter": "python",
   "pygments_lexer": "ipython3",
   "version": "3.8.18"
  }
 },
 "nbformat": 4,
 "nbformat_minor": 5
}
